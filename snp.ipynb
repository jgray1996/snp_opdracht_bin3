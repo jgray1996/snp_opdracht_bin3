{
 "cells": [
  {
   "cell_type": "markdown",
   "metadata": {},
   "source": [
    "## SNP effect assesment  \n",
    "### Bio-informatica 3 - Ronald Wedema\n",
    "##### Author:           James Gray\n",
    "##### Student number:   384775"
   ]
  },
  {
   "cell_type": "markdown",
   "metadata": {},
   "source": [
    "*Single nucleotide polymorphisms* (SNPs), are a common form of mutation that can happen on the genetic level of an organism. Although SNP's can have dentrimental effects for the longlevity of the organism, some can be benign or even benificial in some cases.  \n",
    "  \n",
    "In this notebook we try to find out if the effect of a SNP can be predicted using python."
   ]
  },
  {
   "cell_type": "markdown",
   "metadata": {},
   "source": [
    "## Choosing the data  \n",
    "To predict the effect of a SNP, you first have to collect a group of closely related sequences to the gene in question. \n",
    "In this example the `BCRA1` gene will be examined in different mamalian species known to carry a similar gene.  \n",
    "* Homo sapiens  \n",
    "* Mus musculus  \n",
    "* Pan troglodytes  \n",
    "* Sus scrofa  \n",
    "* Papio anubis  \n",
    "* Felis catus  \n",
    "* Mustela putorius furo  \n",
    "* Macaca fascicularis"
   ]
  },
  {
   "cell_type": "markdown",
   "metadata": {},
   "source": [
    "## System requirements  \n",
    "In this notebook the commandline-tool `clustalo` (Clustal Omega) will be used to make a *multiple sequence alignment* (MSA). Please make sure you have installed this program correctly using `conda` or other prefered source.  \n",
    "Further you should make sure python is installed correctly with the following packages.  "
   ]
  },
  {
   "cell_type": "code",
   "execution_count": 23,
   "metadata": {},
   "outputs": [],
   "source": [
    "import os\n",
    "import os.path\n",
    "import subprocess\n",
    "import sys\n",
    "from statistics import mean\n",
    "\n",
    "from Bio.SubsMat.MatrixInfo import blosum100\n",
    "from Bio import AlignIO, Seq"
   ]
  },
  {
   "cell_type": "markdown",
   "metadata": {},
   "source": [
    "## Reading and creating required files  \n",
    "Two files will be read in this step. One will be the protein family with polypeptide sequences, the other will be a file containing the gene nucleotide sequence. This file will also be split from it's header. This is to more easily index to the right index in the nucleotide sequence.\n"
   ]
  },
  {
   "cell_type": "code",
   "execution_count": 24,
   "metadata": {},
   "outputs": [],
   "source": [
    "# Online aquired files\n",
    "protein_group_path = './data/BRCA1_refseq_protein.fasta'\n",
    "gene_sequene_path = './data/BCRA1.fasta'\n",
    "\n",
    "with open(protein_group_path) as fp:\n",
    "    protein_group_multifasta = fp.read()\n",
    "\n",
    "with open(gene_sequene_path) as fp:\n",
    "    # Save as a list\n",
    "    gene_sequence_file = fp.read().split('\\n')\n",
    "    # Get the header\n",
    "    gene_sequence_header = str(gene_sequence_file[0])\n",
    "    # Concatonate the sequence in a string\n",
    "    gene_sequence = \"\".join(gene_sequence_file[1:-1])"
   ]
  },
  {
   "cell_type": "markdown",
   "metadata": {},
   "source": [
    "## Creating a SNP on a selected spot in the gene sequence  \n",
    "Lets say we want to make a mutation at the following position\n",
    "\n",
    "### Intruduced mutations  \n",
    "`position` is a 0-based position where you want the mutation to start.  \n",
    "`original` is to make sure you are making the mutation at the right position in the sequence.  \n",
    "`mutation` is the desired mutation you want to apply to the nucleotide sequence.  \n",
    "The only characters that will be inserted are `ACTG` other characters will be handled as a deletion."
   ]
  },
  {
   "cell_type": "code",
   "execution_count": 25,
   "metadata": {},
   "outputs": [],
   "source": [
    "position = 3\n",
    "original = 'GAT'\n",
    "# Mark a deletion as '-'\n",
    "mutation = 'GAC'"
   ]
  },
  {
   "cell_type": "markdown",
   "metadata": {},
   "source": [
    "### Function to introduce the mutation in the sequence"
   ]
  },
  {
   "cell_type": "code",
   "execution_count": 26,
   "metadata": {},
   "outputs": [],
   "source": [
    "def mutate(position, original, mutation, nuc_list):\n",
    "    # If the length of the mutation is longer or equal to the original seq\n",
    "    if len(original) <= len(mutation):\n",
    "        del nuc_list[position:position+len(mutation)]\n",
    "        nuc_list.insert(position, mutation)\n",
    "        nuc_list = list(\"\".join(nuc_list))\n",
    "    else:\n",
    "        del nuc_list[position:position+len(original)]\n",
    "        nuc_list.insert(position, mutation)\n",
    "        nuc_list = list(\"\".join(nuc_list))\n",
    "\n",
    "    # Concatonate in list and remove deletions\n",
    "    for char in range(len(nuc_list)):\n",
    "        if nuc_list[char] not in 'ACTG':\n",
    "            nuc_list[char] = ''\n",
    "    return nuc_list"
   ]
  },
  {
   "cell_type": "code",
   "execution_count": 27,
   "metadata": {},
   "outputs": [
    {
     "name": "stdout",
     "output_type": "stream",
     "text": [
      "SNP introduced to sequence\n"
     ]
    }
   ],
   "source": [
    "nuc_list = list(gene_sequence)\n",
    "\n",
    "message = f\"\"\"User specified original sequence doesn't correspond with the actual readings\\n\n",
    "FASTA header:\\n{gene_sequence_header}\n",
    "position [{position}:{position+len(original)}]\n",
    "user specified:{list(original)}\n",
    "actual readings:{nuc_list[position:position+len(list(original))]}\"\"\"\n",
    "\n",
    "if not mutation:\n",
    "    sys.exit('No mutation set in parameters...')\n",
    "\n",
    "# check if proclaimed original sequence corresponds with actal readings\n",
    "if list(original) == nuc_list[position:position+len(list(original))]:\n",
    "    nuc_list = mutate(position, original, mutation, nuc_list)\n",
    "else:\n",
    "    print(message)\n",
    "    message = input('Ignore this? y/n :')\n",
    "    if message.upper() == 'Y':\n",
    "        nuc_list = mutate(position, original, mutation, nuc_list)\n",
    "    else:\n",
    "        sys.exit('Program shut down...')\n",
    "\n",
    "\n",
    "mutated_sequence = ''.join(nuc_list)\n",
    "print('SNP introduced to sequence')"
   ]
  },
  {
   "cell_type": "markdown",
   "metadata": {},
   "source": [
    "### Translate transcipt to polypeptide  \n",
    "Now we have introduced a SNP to the gene sequence, we need to translate the transcript to a polypeptide sequence. This is going to be our first glimpse into seeing if the SNP applied is going to be malignant or benign.  \n",
    "  \n",
    "We will save our mutated sequence in a `Seq()` object from biopython. This is handy, because this object contains a method to do the translation for us. We can compare the length of the transcript of the mutated sequence to the unmutad sequence and see how much they differ."
   ]
  },
  {
   "cell_type": "code",
   "execution_count": 28,
   "metadata": {},
   "outputs": [],
   "source": [
    "org_seq = Seq.Seq(gene_sequence)\n",
    "mut_seq = Seq.Seq(mutated_sequence)\n",
    "\n",
    "org_seq_translated = org_seq.translate()\n",
    "mut_seq_translated = mut_seq.translate()\n",
    "\n",
    "percentage_loss = None\n",
    "\n",
    "# If the length of the original- and the mutated sequence aren't the same\n",
    "if len(org_seq_translated) != len(mut_seq_translated):\n",
    "    print(\"There is a difference in transcript length...\")\n",
    "    percentage_loss = 100 - (len(org_seq_translated) / len(mut_seq_translated) * 100 )\n",
    "    print(f\"There's a loss of: {percentage_loss}%\")\n"
   ]
  },
  {
   "cell_type": "markdown",
   "metadata": {},
   "source": [
    "## Write the mutated sequences to the group of proteins to be aligned.  \n",
    "In order to assess the mutagenity of a SNP, the mutation has to be put into perspective to homologue protein sequences to calculate the conservation.  \n",
    "  \n",
    "To make it easy to find back the mutation that's been incorperated into the genome, the original sequence will also be added to the file."
   ]
  },
  {
   "cell_type": "code",
   "execution_count": 29,
   "metadata": {},
   "outputs": [
    {
     "name": "stdout",
     "output_type": "stream",
     "text": [
      "combined file written!\n"
     ]
    }
   ],
   "source": [
    "file_out = \"./data/SNP_Included.fasta\"\n",
    "\n",
    "data = protein_group_multifasta + '\\n'\n",
    "data += \">OG_Sequence\\n\"\n",
    "data += str(org_seq_translated) + '\\n\\n'\n",
    "data += f\">SNP_Mutation: {original} to {mutation} @ {position}\\n\"\n",
    "data += str(mut_seq_translated)\n",
    "\n",
    "with open(file_out, 'w') as f_out:\n",
    "    f_out.write(data)\n",
    "\n",
    "print('combined file written!')"
   ]
  },
  {
   "cell_type": "markdown",
   "metadata": {},
   "source": [
    "Now the file are combined into one, the MSA can be perfomed. This step will be done using the `subprocess` command under the `sys` package. Again, make sure `clustalo` is installed correctly and added to the systems `PATH`."
   ]
  },
  {
   "cell_type": "code",
   "execution_count": 30,
   "metadata": {},
   "outputs": [
    {
     "name": "stdout",
     "output_type": "stream",
     "text": [
      "Sequences aligned.\n"
     ]
    }
   ],
   "source": [
    "alignment_name = \"./data/MSA_SNP.aln\"\n",
    "command = f'clustalo --in={file_out} --out={alignment_name} --fmt=clustal'\n",
    "\n",
    "if os.path.exists(alignment_name):\n",
    "    # Remove old alignment if the user hasn't set a new filename\n",
    "    try:\n",
    "        os.remove(alignment_name)\n",
    "    except:\n",
    "        print('Reload the notebook please')\n",
    "\n",
    "align = subprocess.Popen([\"clustalo\",\"-i\", file_out, \"-o\", alignment_name, \"--outfmt=clustal\"], stdout=subprocess.PIPE)\n",
    "output = align.communicate()[0]\n",
    "print('Sequences aligned.')"
   ]
  },
  {
   "cell_type": "markdown",
   "metadata": {},
   "source": [
    "## Reading and analysing the MSA  \n",
    "Now the multiple sequence alignment has been generated, we have to read in the file. To do this I've chosen to use the `Bio.AlignIO` package, because it handles `clustal` format alignments."
   ]
  },
  {
   "cell_type": "code",
   "execution_count": 31,
   "metadata": {},
   "outputs": [],
   "source": [
    "try:\n",
    "    msa = AlignIO.read(handle=alignment_name, format='clustal')\n",
    "except FileNotFoundError:\n",
    "    print('ERROR: Check if clustalo is correctly installed.')"
   ]
  },
  {
   "cell_type": "markdown",
   "metadata": {},
   "source": [
    "## The MSA object  \n",
    "After reading the alignment file into the newly created `msa` instance, we can examine the contents."
   ]
  },
  {
   "cell_type": "code",
   "execution_count": 32,
   "metadata": {},
   "outputs": [
    {
     "name": "stdout",
     "output_type": "stream",
     "text": [
      "Length of MSA: 10 rows\n",
      "record name: NP_009225.1 \t length: 1916 \t first : ----------MDLSA\tlast : PHSHY----------\n",
      "record name: NP_033894.3 \t length: 1916 \t first : ----------MDLSA\tlast : TCD---SSEPQDSND\n",
      "record name: NP_001038958.1 \t length: 1916 \t first : ----------MDLSA\tlast : PHSHY----------\n",
      "record name: XP_005657013.1 \t length: 1916 \t first : ----------MDLSV\tlast : PQSCC---RPCT---\n",
      "record name: NP_001289032.1 \t length: 1916 \t first : ----------MDLSA\tlast : PHSHY----------\n",
      "record name: XP_019673492.1 \t length: 1916 \t first : ----------MDLSA\tlast : PRATADLSQPCV---\n",
      "record name: XP_004772665.1 \t length: 1916 \t first : MPQNSLEQEEMDLPA\tlast : PRAAAHSSQPCV---\n",
      "record name: NP_001288295.1 \t length: 1916 \t first : ----------MDLSA\tlast : PHSHY----------\n",
      "record name: OG_Sequence \t length: 1916 \t first : ----------MDLSA\tlast : PHSHY*---------\n",
      "record name: SNP_Mutation: \t length: 1916 \t first : ----------MDLSA\tlast : PHSHY*---------\n"
     ]
    }
   ],
   "source": [
    "print(f'Length of MSA: {len(msa)} rows')\n",
    "for record in msa:\n",
    "    print(f'record name: {record.id} \\t length: {len(record.seq)} \\t first : {record.seq[0:15]}\\tlast : {record.seq[-15:]}')"
   ]
  },
  {
   "cell_type": "markdown",
   "metadata": {},
   "source": [
    "## Does the translation make any sense?  \n",
    "As can be seen in the results above, the sequences start with a *methionine* residue. This is logical, because in both eukaryotes and archeae this codon is at the start of every polypeptide sequence. Let's asume that this is a sign that the transcript at least produces a translatable polypeptide. Let's also asume that if the polypeptide **doesn't** start with *methionine* the transcript is going to be garbage.  \n",
    "  \n",
    "This chunk of code checks if all the first residues are actually methionine"
   ]
  },
  {
   "cell_type": "code",
   "execution_count": 33,
   "metadata": {},
   "outputs": [
    {
     "name": "stdout",
     "output_type": "stream",
     "text": [
      "First residues start with Methionine\n"
     ]
    }
   ],
   "source": [
    "is_garbage = False\n",
    "first_residue = \"\".join([r[0] for r in [x.strip('-') for x in [record.seq for record in msa]]])\n",
    "if not first_residue == len(first_residue) * first_residue[0] and first_residue[0] == 'M':\n",
    "    print('First residues are not all Methionine')\n",
    "    is_garbage = True\n",
    "else:\n",
    "    print('First residues start with Methionine')"
   ]
  },
  {
   "cell_type": "markdown",
   "metadata": {},
   "source": [
    "## Testing for silent mutations  \n",
    "Due to the wobble-effect in the last nucleotide of a triplet, the translated amino acid will be the same.  \n",
    "Example:  \n",
    " * `ATA` --> `I`  \n",
    " * `ATC` --> `I`  \n",
    "A SNP changing an `A` to a `C` in this case will cause a mutation in the translated polypeptide sequence.  \n",
    "  \n",
    "To check if the SNP applied in the transcript causes a silent mutation a simple comparison of equality will surfice."
   ]
  },
  {
   "cell_type": "code",
   "execution_count": 34,
   "metadata": {},
   "outputs": [
    {
     "name": "stdout",
     "output_type": "stream",
     "text": [
      "The sequences appear to be the same\n"
     ]
    }
   ],
   "source": [
    "og_alignment = msa[-2]\n",
    "mutated_alignment = msa[-1]\n",
    "silent_mutation = False\n",
    "\n",
    "if og_alignment.seq == mutated_alignment.seq:\n",
    "    print('The sequences appear to be the same')\n",
    "    silent_mutation = True\n",
    "else:\n",
    "    print('The sequence is changed due to the SNP')\n",
    "    print('Mutation is not silent')"
   ]
  },
  {
   "cell_type": "markdown",
   "metadata": {},
   "source": [
    "## Compare the introduced mutation to the MSA  \n",
    "A MSA is a way to show how proteins relate to each other. The introduced mutation might be in a site with a very high measure of conservation. Here a misplaced residue will stick out like a splatter of paint on a white canvas. On other sites in the MSA, the residue might not stick out initially, but if the characteristics of the amino acids are further inspected there might be some discrapancies.  \n",
    "Some of these characteristics are:  \n",
    "* Acidity  \n",
    "* Sollubilaty  \n",
    "* Structure  \n",
    "* Weight  \n",
    "* Size  \n",
    "  \n",
    "  \n",
    "Sometimes a risidue is simply interchangable with an other and it might not produce any structural and functional changes in the polypeptide. Again keeping the MSA as a reference will give insight if this is the case. The next section of this notebook is deticated to identifying and scoring these kind of SNP's  \n",
    "  \n",
    "## Calculating the average substitution score globally and per site\n"
   ]
  },
  {
   "cell_type": "code",
   "execution_count": 35,
   "metadata": {},
   "outputs": [],
   "source": [
    "snp_i = []\n",
    "is_pointmutation = False\n",
    "is_frameshift = False\n",
    "substitution_AA = []\n",
    "original_AA = []\n",
    "site_alignment = []\n",
    "\n",
    "# Find the SNP in sequence if the sequence makes sense\n",
    "if not is_garbage and not silent_mutation:\n",
    "    for i, chars in enumerate(zip(mutated_alignment.seq, og_alignment.seq)):\n",
    "\n",
    "        if chars[0] != chars[1]:\n",
    "            snp_i.append(i)\n",
    "            substitution_AA.append(chars[0])\n",
    "            original_AA.append(chars[1])\n",
    "            site_alignment.append(msa[0:len(msa)-1, i])\n",
    "\n",
    "\n",
    "# Calculate averate substitution score of snp/original ~ MSA\n",
    "\n",
    "if len(snp_i) == 1:\n",
    "    is_pointmutation = True\n",
    "    print('Mutation is point mutation')\n",
    "elif percentage_loss:\n",
    "    is_frameshift = True\n",
    "    print('Mutation is a frameshift mutation')\n"
   ]
  },
  {
   "cell_type": "markdown",
   "metadata": {},
   "source": [
    "Let's also compare the substituion to the rest of the MSA. While doing this, we'll compare the original residue's average substitution score to the snp's substitution score. Afterwards this will be averaged out."
   ]
  },
  {
   "cell_type": "code",
   "execution_count": 36,
   "metadata": {},
   "outputs": [
    {
     "name": "stdout",
     "output_type": "stream",
     "text": [
      "Minimum conservation -7\n",
      "Maximum conservation 11\n"
     ]
    }
   ],
   "source": [
    "all_site_scores = []\n",
    "site_score_org = []\n",
    "site_score_snp = []\n",
    "min_conservation = -7\n",
    "max_conservation = 11\n",
    "\n",
    "print('Minimum conservation', min_conservation)\n",
    "print('Maximum conservation', max_conservation)\n",
    "\n",
    "\n",
    "# Calculate conservation and change in conservation per snp\n",
    "for site, org, snp in zip(site_alignment, original_AA, substitution_AA):\n",
    "    site_avg_org = []\n",
    "    site_avg_snp = []\n",
    "    for s in site:\n",
    "        # I'm not really sure what the penalty should be if the site contains gaps and a AA is substituted.\n",
    "        # So the penalty will be the consithered minimum conservation score\n",
    "        if s in '*-' or org in '*-' or snp in '*-':\n",
    "            pass\n",
    "        else:\n",
    "            try:\n",
    "                site_avg_org.append(blosum100[(s, org)])\n",
    "            except KeyError:\n",
    "                site_avg_org.append(blosum100[(org, s)])\n",
    "            try:\n",
    "                site_avg_snp.append(blosum100[(s, snp)])\n",
    "            except KeyError:\n",
    "                site_avg_snp.append(blosum100[(snp, s)])\n",
    "\n",
    "    if site_avg_org:\n",
    "        site_score_org.append(mean(site_avg_org))\n",
    "    if site_avg_snp:\n",
    "        site_score_snp.append(mean(site_avg_snp))\n",
    "\n",
    "\n",
    "# for org_s, snp_s, i in zip(site_score_org, site_score_snp, snp_i):\n",
    "#     print(f'index: {i}\\naverage substitution score original~alignment:\\t{org_s}\\n\\\n",
    "# average substitution score snp~alignment:\\t{snp_s}')\n"
   ]
  },
  {
   "cell_type": "markdown",
   "metadata": {},
   "source": [
    "## Creating the score  \n",
    "Let's assume that the avarage substitution score of the MSA is a baseline for conservation. The highter the average substitutionscore is to itself is the amount of conservation. For example a `W --> W` substitution is heavily favoured in the `blosum100` and is awarded the maximum score: `11`. On the other hand there is the least favourable substitution, which is `W --> D`. This substitution is penalized the minimum score of `-7`.  \n",
    "  \n",
    "If this is these two substitution are the min and max boundries we can set up a scoring system where 1 is the most neutral and 10 is the most deleterous.  \n",
    "  \n",
    "\n",
    "\n",
    "\n",
    "$score(siteAvgSNP) = \\frac{siteAvgSNP + abs(min(conservation))} {max(conservation) + abs(min(conservation))} * 9 + 1$  \n",
    "  \n",
    "\n",
    "## Scoring the SNP\n",
    "\n"
   ]
  },
  {
   "cell_type": "code",
   "execution_count": 37,
   "metadata": {},
   "outputs": [
    {
     "name": "stdout",
     "output_type": "stream",
     "text": [
      "1\n"
     ]
    }
   ],
   "source": [
    "def score(site_avg_snp, min_conservation, max_conservation):\n",
    "    return (1-(site_avg_snp+abs(min_conservation))/(max_conservation + abs(min_conservation)))*9+1\n",
    "\n",
    "if is_garbage:\n",
    "    print(10)\n",
    "elif silent_mutation:\n",
    "    print(1)\n",
    "elif is_frameshift:\n",
    "    print(10 - (10*(-1*percentage_loss)))\n",
    "elif is_pointmutation:\n",
    "    print(score(site_score_snp[0], min_conservation, max_conservation))\n",
    "else:\n",
    "    # Mutation placed in gap\n",
    "    print(1)"
   ]
  }
 ],
 "metadata": {
  "interpreter": {
   "hash": "8fcaf298253f65fac3372020ec1d298e3b62a7dca2683f0f2f0d866fe440ee8a"
  },
  "kernelspec": {
   "display_name": "Python 3.9.9 64-bit (windows store)",
   "language": "python",
   "name": "python3"
  },
  "language_info": {
   "codemirror_mode": {
    "name": "ipython",
    "version": 3
   },
   "file_extension": ".py",
   "mimetype": "text/x-python",
   "name": "python",
   "nbconvert_exporter": "python",
   "pygments_lexer": "ipython3",
   "version": "3.9.9"
  },
  "orig_nbformat": 4
 },
 "nbformat": 4,
 "nbformat_minor": 2
}
